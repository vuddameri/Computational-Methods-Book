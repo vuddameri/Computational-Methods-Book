{
 "cells": [
  {
   "cell_type": "markdown",
   "id": "6900df41",
   "metadata": {},
   "source": [
    "<h1> <center> <font color='blue'> Python Sequence Data Types </font> </center> </h1>"
   ]
  },
  {
   "cell_type": "markdown",
   "id": "40d9473c",
   "metadata": {},
   "source": [
    "<h1><font color='red'> Lists </font> </h2>"
   ]
  },
  {
   "cell_type": "code",
   "execution_count": 2,
   "id": "d7a4ba97",
   "metadata": {},
   "outputs": [
    {
     "name": "stdout",
     "output_type": "stream",
     "text": [
      "[1, 2, 3, 1.3, 'Python']\n"
     ]
    }
   ],
   "source": [
    "a = [1,2,3,1.3,'Python']  # Lists can have different data types\n",
    "print(a)"
   ]
  },
  {
   "cell_type": "code",
   "execution_count": 3,
   "id": "fbe0d737",
   "metadata": {},
   "outputs": [
    {
     "name": "stdout",
     "output_type": "stream",
     "text": [
      "The first and 3rd elements of a are: 1  and  3\n"
     ]
    }
   ],
   "source": [
    "x1 = a[0]  # first element notice the zero index\n",
    "x3 = a[2]  # To obtain the 3rd element we shall denote index = 2 (why?)\n",
    "print('The first and 3rd elements of a are:',x1, ' and ',x3)"
   ]
  },
  {
   "cell_type": "code",
   "execution_count": 4,
   "id": "4fc0f15b",
   "metadata": {},
   "outputs": [
    {
     "data": {
      "text/plain": [
       "5"
      ]
     },
     "execution_count": 4,
     "metadata": {},
     "output_type": "execute_result"
    }
   ],
   "source": [
    "len(a) \"length of a\" notice there are 5 elements"
   ]
  },
  {
   "cell_type": "code",
   "execution_count": 7,
   "id": "29730323",
   "metadata": {},
   "outputs": [],
   "source": [
    "# b is a list of lists\n",
    "b = [[1,2],[3,4],[4,3]]  # A list can be nested"
   ]
  },
  {
   "cell_type": "code",
   "execution_count": 8,
   "id": "0f737f15",
   "metadata": {},
   "outputs": [
    {
     "data": {
      "text/plain": [
       "[4, 3]"
      ]
     },
     "execution_count": 8,
     "metadata": {},
     "output_type": "execute_result"
    }
   ],
   "source": [
    "b[2]  # get second element of list b"
   ]
  },
  {
   "cell_type": "code",
   "execution_count": 9,
   "id": "11ce26eb",
   "metadata": {},
   "outputs": [
    {
     "data": {
      "text/plain": [
       "4"
      ]
     },
     "execution_count": 9,
     "metadata": {},
     "output_type": "execute_result"
    }
   ],
   "source": [
    "b[2][0]  # get the first sub-element (index = 0) of the third element of b (index=2)"
   ]
  },
  {
   "cell_type": "markdown",
   "id": "5f8683d0",
   "metadata": {},
   "source": [
    "<h2><font color='red'> Tuples </font> </h2>"
   ]
  },
  {
   "cell_type": "code",
   "execution_count": 12,
   "id": "50de319b",
   "metadata": {},
   "outputs": [
    {
     "data": {
      "text/plain": [
       "tuple"
      ]
     },
     "execution_count": 12,
     "metadata": {},
     "output_type": "execute_result"
    }
   ],
   "source": [
    "c = (1,)  # This is a tuple with 1 element and a trailing comma\n",
    "type(c)"
   ]
  },
  {
   "cell_type": "code",
   "execution_count": 13,
   "id": "02c14b55",
   "metadata": {},
   "outputs": [
    {
     "name": "stdout",
     "output_type": "stream",
     "text": [
      "(1, 1.2, 'Python')\n"
     ]
    }
   ],
   "source": [
    "d = (1,1.2,'Python') # Tuples can contain multiple data types\n",
    "print(d)"
   ]
  },
  {
   "cell_type": "code",
   "execution_count": 14,
   "id": "fe0dba20",
   "metadata": {},
   "outputs": [],
   "source": [
    "e = ((1,2),(2,3)) # A nested tuple"
   ]
  },
  {
   "cell_type": "code",
   "execution_count": 15,
   "id": "9fbe5248",
   "metadata": {},
   "outputs": [
    {
     "name": "stdout",
     "output_type": "stream",
     "text": [
      "The first elements of the nested tuple are: 1 and 2\n"
     ]
    }
   ],
   "source": [
    "# Print 1st elements from a nested tuple\n",
    "f1 = e[0][0]\n",
    "f2 = e[1][0]\n",
    "print('The first elements of the nested tuple are:',f1, 'and', f2)"
   ]
  },
  {
   "cell_type": "code",
   "execution_count": 18,
   "id": "7563bcc7",
   "metadata": {},
   "outputs": [
    {
     "ename": "TypeError",
     "evalue": "'tuple' object does not support item assignment",
     "output_type": "error",
     "traceback": [
      "\u001b[0;31m---------------------------------------------------------------------------\u001b[0m",
      "\u001b[0;31mTypeError\u001b[0m                                 Traceback (most recent call last)",
      "\u001b[0;32m/tmp/ipykernel_58173/1534769034.py\u001b[0m in \u001b[0;36m<module>\u001b[0;34m\u001b[0m\n\u001b[1;32m      1\u001b[0m \u001b[0md\u001b[0m \u001b[0;34m=\u001b[0m \u001b[0;34m(\u001b[0m\u001b[0;36m1\u001b[0m\u001b[0;34m,\u001b[0m\u001b[0;36m2\u001b[0m\u001b[0;34m,\u001b[0m\u001b[0;36m3\u001b[0m\u001b[0;34m)\u001b[0m\u001b[0;34m\u001b[0m\u001b[0;34m\u001b[0m\u001b[0m\n\u001b[0;32m----> 2\u001b[0;31m \u001b[0md\u001b[0m\u001b[0;34m[\u001b[0m\u001b[0;36m0\u001b[0m\u001b[0;34m]\u001b[0m \u001b[0;34m=\u001b[0m \u001b[0;36m2\u001b[0m\u001b[0;34m\u001b[0m\u001b[0;34m\u001b[0m\u001b[0m\n\u001b[0m",
      "\u001b[0;31mTypeError\u001b[0m: 'tuple' object does not support item assignment"
     ]
    }
   ],
   "source": [
    "d = (1,2,3)\n",
    "d[0] = 2"
   ]
  },
  {
   "cell_type": "code",
   "execution_count": 17,
   "id": "53a1f70f",
   "metadata": {},
   "outputs": [
    {
     "name": "stdout",
     "output_type": "stream",
     "text": [
      "(1, 2, 3, 4)\n"
     ]
    }
   ],
   "source": []
  },
  {
   "cell_type": "markdown",
   "id": "11d64d95",
   "metadata": {},
   "source": [
    "<h2> <font color='red'> Strings </font> </h2>"
   ]
  },
  {
   "cell_type": "code",
   "execution_count": 20,
   "id": "57010c7d",
   "metadata": {},
   "outputs": [
    {
     "name": "stdout",
     "output_type": "stream",
     "text": [
      "String\n"
     ]
    }
   ],
   "source": [
    "a = str('String')  # Explicit definition of string using str function\n",
    "print(a)"
   ]
  },
  {
   "cell_type": "code",
   "execution_count": 22,
   "id": "0ff194d9",
   "metadata": {},
   "outputs": [
    {
     "name": "stdout",
     "output_type": "stream",
     "text": [
      "String1\n"
     ]
    }
   ],
   "source": [
    "a = 'String1'  # Implicit definition of string using ''\n",
    "print(a)  "
   ]
  },
  {
   "cell_type": "code",
   "execution_count": 35,
   "id": "1f13088d",
   "metadata": {},
   "outputs": [
    {
     "data": {
      "text/plain": [
       "'x'"
      ]
     },
     "execution_count": 35,
     "metadata": {},
     "output_type": "execute_result"
    }
   ],
   "source": [
    "a = 'six string'\n",
    "a[2] # extract an element"
   ]
  },
  {
   "cell_type": "code",
   "execution_count": 33,
   "id": "3eb76b8a",
   "metadata": {},
   "outputs": [
    {
     "data": {
      "text/plain": [
       "' '"
      ]
     },
     "execution_count": 33,
     "metadata": {},
     "output_type": "execute_result"
    }
   ],
   "source": [
    "a[3] # Notice spaces are also elements"
   ]
  },
  {
   "cell_type": "code",
   "execution_count": 37,
   "id": "6cdabae8",
   "metadata": {},
   "outputs": [
    {
     "ename": "TypeError",
     "evalue": "'str' object does not support item assignment",
     "output_type": "error",
     "traceback": [
      "\u001b[0;31m---------------------------------------------------------------------------\u001b[0m",
      "\u001b[0;31mTypeError\u001b[0m                                 Traceback (most recent call last)",
      "\u001b[0;32m/tmp/ipykernel_58173/469596996.py\u001b[0m in \u001b[0;36m<module>\u001b[0;34m\u001b[0m\n\u001b[0;32m----> 1\u001b[0;31m \u001b[0ma\u001b[0m\u001b[0;34m[\u001b[0m\u001b[0;36m0\u001b[0m\u001b[0;34m]\u001b[0m \u001b[0;34m=\u001b[0m \u001b[0;34m'F'\u001b[0m\u001b[0;34m\u001b[0m\u001b[0;34m\u001b[0m\u001b[0m\n\u001b[0m",
      "\u001b[0;31mTypeError\u001b[0m: 'str' object does not support item assignment"
     ]
    }
   ],
   "source": [
    "a[0] = 'F'"
   ]
  },
  {
   "cell_type": "markdown",
   "id": "ce99bc71",
   "metadata": {},
   "source": [
    "<h2><font color='red'> Nested List of Strings </font></h2>"
   ]
  },
  {
   "cell_type": "code",
   "execution_count": 1,
   "id": "62930589",
   "metadata": {},
   "outputs": [],
   "source": [
    "txt = ['I',\"Love\",\"Python\"]"
   ]
  },
  {
   "cell_type": "code",
   "execution_count": 2,
   "id": "5a059d2d",
   "metadata": {},
   "outputs": [
    {
     "data": {
      "text/plain": [
       "'Love'"
      ]
     },
     "execution_count": 2,
     "metadata": {},
     "output_type": "execute_result"
    }
   ],
   "source": [
    "txt[1]  # extract 1st element of the list"
   ]
  },
  {
   "cell_type": "code",
   "execution_count": 3,
   "id": "159c6ea7",
   "metadata": {},
   "outputs": [
    {
     "data": {
      "text/plain": [
       "'v'"
      ]
     },
     "execution_count": 3,
     "metadata": {},
     "output_type": "execute_result"
    }
   ],
   "source": [
    "txt[1][2] # each element is a sequence so extract 2nd sub-element of 1st element"
   ]
  },
  {
   "cell_type": "code",
   "execution_count": null,
   "id": "e344c342",
   "metadata": {},
   "outputs": [],
   "source": []
  }
 ],
 "metadata": {
  "kernelspec": {
   "display_name": "Python 3 (ipykernel)",
   "language": "python",
   "name": "python3"
  },
  "language_info": {
   "codemirror_mode": {
    "name": "ipython",
    "version": 3
   },
   "file_extension": ".py",
   "mimetype": "text/x-python",
   "name": "python",
   "nbconvert_exporter": "python",
   "pygments_lexer": "ipython3",
   "version": "3.8.10"
  }
 },
 "nbformat": 4,
 "nbformat_minor": 5
}
