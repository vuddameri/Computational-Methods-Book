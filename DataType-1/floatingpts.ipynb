{
 "cells": [
  {
   "cell_type": "markdown",
   "id": "9bd2f9d8-ae7d-4f1d-bb76-600cff77f4fe",
   "metadata": {},
   "source": [
    "<h1> <center> <font color='blue'> Floating Point Numbers </font> </center> </h1>"
   ]
  },
  {
   "cell_type": "markdown",
   "id": "8ce46b0c-4558-4492-a707-37090b8139ab",
   "metadata": {},
   "source": [
    "<font color='red'> Defining Floating Point Numbers </red>"
   ]
  },
  {
   "cell_type": "code",
   "execution_count": 2,
   "id": "31d47614-d7aa-4c6c-a615-66661cf71a68",
   "metadata": {},
   "outputs": [
    {
     "name": "stdout",
     "output_type": "stream",
     "text": [
      "The value of a is: 16.2\n",
      "The value of b is: 16.2\n"
     ]
    }
   ],
   "source": [
    "a = 16.2 # Implicit definition\n",
    "b = float('16.2') # explicit definition\n",
    "print('The value of a is:', a)\n",
    "print('The value of b is:', b)"
   ]
  },
  {
   "cell_type": "markdown",
   "id": "c4502a6c-00a5-451b-9620-784b4fa9be2c",
   "metadata": {},
   "source": [
    "<font color='red'> Using type function with Floating Point Numbers </red>"
   ]
  },
  {
   "cell_type": "code",
   "execution_count": 22,
   "id": "c60b1bd7-771e-421a-8329-61bca3211791",
   "metadata": {},
   "outputs": [
    {
     "data": {
      "text/plain": [
       "float"
      ]
     },
     "execution_count": 22,
     "metadata": {},
     "output_type": "execute_result"
    }
   ],
   "source": [
    "type(a)"
   ]
  },
  {
   "cell_type": "code",
   "execution_count": 12,
   "id": "ed5a0d32-a344-4287-937c-ac70c3c91754",
   "metadata": {},
   "outputs": [
    {
     "data": {
      "text/plain": [
       "float"
      ]
     },
     "execution_count": 12,
     "metadata": {},
     "output_type": "execute_result"
    }
   ],
   "source": [
    "type(b)"
   ]
  },
  {
   "cell_type": "markdown",
   "id": "d82f17ba-ed15-4bdd-9192-b3f0ed27c2be",
   "metadata": {},
   "source": [
    "<font color='red'> Floating Point Precision on your Machine </font>"
   ]
  },
  {
   "cell_type": "code",
   "execution_count": 13,
   "id": "ecaddbfe-ecac-4283-89b5-b381e2a50303",
   "metadata": {},
   "outputs": [
    {
     "data": {
      "text/plain": [
       "sys.float_info(max=1.7976931348623157e+308, max_exp=1024, max_10_exp=308, min=2.2250738585072014e-308, min_exp=-1021, min_10_exp=-307, dig=15, mant_dig=53, epsilon=2.220446049250313e-16, radix=2, rounds=1)"
      ]
     },
     "execution_count": 13,
     "metadata": {},
     "output_type": "execute_result"
    }
   ],
   "source": [
    "import sys\n",
    "sys.float_info"
   ]
  },
  {
   "cell_type": "markdown",
   "id": "1d62488a-86ef-4ab1-8fd7-64f5a7b3ebbb",
   "metadata": {},
   "source": [
    "<font color = 'red'> Issues with Floating Point Numbers </font>"
   ]
  },
  {
   "cell_type": "code",
   "execution_count": 14,
   "id": "538fa322-4507-4189-a981-43c4a8187475",
   "metadata": {},
   "outputs": [
    {
     "data": {
      "text/plain": [
       "False"
      ]
     },
     "execution_count": 14,
     "metadata": {},
     "output_type": "execute_result"
    }
   ],
   "source": [
    "a = 0.1 # define a as 0.1\n",
    "b = 0.3 # define b as 0.3\n",
    "b == a + a + a # use == (equivalent) operator to check if b = a + a + a"
   ]
  },
  {
   "cell_type": "code",
   "execution_count": 18,
   "id": "4c37eb60-39bb-45c3-82d7-fff8fb572863",
   "metadata": {},
   "outputs": [
    {
     "data": {
      "text/plain": [
       "0.1"
      ]
     },
     "execution_count": 18,
     "metadata": {},
     "output_type": "execute_result"
    }
   ],
   "source": [
    "a"
   ]
  },
  {
   "cell_type": "code",
   "execution_count": 19,
   "id": "3b83fa04-b2f4-469c-b3a9-d0e8a9160452",
   "metadata": {},
   "outputs": [
    {
     "data": {
      "text/plain": [
       "0.30000000000000004"
      ]
     },
     "execution_count": 19,
     "metadata": {},
     "output_type": "execute_result"
    }
   ],
   "source": [
    "a+a+a"
   ]
  },
  {
   "cell_type": "code",
   "execution_count": 20,
   "id": "6e94a1ca-bc7d-4613-ac18-84e7faa898d4",
   "metadata": {},
   "outputs": [
    {
     "data": {
      "text/plain": [
       "0.3"
      ]
     },
     "execution_count": 20,
     "metadata": {},
     "output_type": "execute_result"
    }
   ],
   "source": [
    "b"
   ]
  },
  {
   "cell_type": "code",
   "execution_count": 21,
   "id": "8f820ed9-2d2f-4466-985b-b279df98f750",
   "metadata": {},
   "outputs": [
    {
     "data": {
      "text/plain": [
       "True"
      ]
     },
     "execution_count": 21,
     "metadata": {},
     "output_type": "execute_result"
    }
   ],
   "source": [
    "round(a+a+a,10) == round(b,10)  # rounding helps"
   ]
  },
  {
   "cell_type": "markdown",
   "id": "c9fca68c-4f21-4344-9a90-8d3aff5655dd",
   "metadata": {},
   "source": [
    "<font color='red'> Storing Floating Point Numbers as Fractions </red>"
   ]
  },
  {
   "cell_type": "code",
   "execution_count": 25,
   "id": "a208b129-aa01-4446-a143-79b2627e3923",
   "metadata": {},
   "outputs": [
    {
     "data": {
      "text/plain": [
       "(884279718837543, 281474976710656)"
      ]
     },
     "execution_count": 25,
     "metadata": {},
     "output_type": "execute_result"
    }
   ],
   "source": [
    "pi = 3.141592653\n",
    "pi_int_ratio = pi.as_integer_ratio()\n",
    "pi_int_ratio"
   ]
  },
  {
   "cell_type": "code",
   "execution_count": 29,
   "id": "6f7ccee7-59da-4d61-8529-827044419cdf",
   "metadata": {},
   "outputs": [
    {
     "data": {
      "text/plain": [
       "True"
      ]
     },
     "execution_count": 29,
     "metadata": {},
     "output_type": "execute_result"
    }
   ],
   "source": [
    "pi == 884279718837543/281474976710656"
   ]
  },
  {
   "cell_type": "markdown",
   "id": "0840659e-1879-4ee8-a8a6-b78a59a20374",
   "metadata": {},
   "source": [
    "<font color='red'> Storing Floats as Hexadecimal Numbers </font>"
   ]
  },
  {
   "cell_type": "code",
   "execution_count": 32,
   "id": "d47510fb-4704-4761-875b-935c9031575e",
   "metadata": {},
   "outputs": [
    {
     "data": {
      "text/plain": [
       "'0x1.921fb542fe938p+1'"
      ]
     },
     "execution_count": 32,
     "metadata": {},
     "output_type": "execute_result"
    }
   ],
   "source": [
    "pi_hex = pi.hex()\n",
    "pi_hex"
   ]
  },
  {
   "cell_type": "code",
   "execution_count": 33,
   "id": "e6668cb8-6af8-4075-a7d1-7b87a855812b",
   "metadata": {
    "tags": []
   },
   "outputs": [
    {
     "data": {
      "text/plain": [
       "True"
      ]
     },
     "execution_count": 33,
     "metadata": {},
     "output_type": "execute_result"
    }
   ],
   "source": [
    "pi == float.fromhex(pi_hex)"
   ]
  }
 ],
 "metadata": {
  "kernelspec": {
   "display_name": "Python 3 (ipykernel)",
   "language": "python",
   "name": "python3"
  },
  "language_info": {
   "codemirror_mode": {
    "name": "ipython",
    "version": 3
   },
   "file_extension": ".py",
   "mimetype": "text/x-python",
   "name": "python",
   "nbconvert_exporter": "python",
   "pygments_lexer": "ipython3",
   "version": "3.8.10"
  }
 },
 "nbformat": 4,
 "nbformat_minor": 5
}
