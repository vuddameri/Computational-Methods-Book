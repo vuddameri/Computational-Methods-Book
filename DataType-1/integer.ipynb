{
 "cells": [
  {
   "cell_type": "markdown",
   "id": "5f91ab87",
   "metadata": {},
   "source": [
    "<h1> <center> <font color='blue'> Native Python Data Types for Constants </center> </font> </h1>"
   ]
  },
  {
   "cell_type": "markdown",
   "id": "8fff1041",
   "metadata": {},
   "source": [
    "<font color='red'> You can use the **int** function to define integer variables.  Although, Python can automatically figure it out as well. </font>"
   ]
  },
  {
   "cell_type": "code",
   "execution_count": 2,
   "id": "cca9fdcd",
   "metadata": {},
   "outputs": [
    {
     "name": "stdout",
     "output_type": "stream",
     "text": [
      "43\n"
     ]
    }
   ],
   "source": [
    "a = int(43)  # object a is explicitly defined as int\n",
    "print(a)"
   ]
  },
  {
   "cell_type": "code",
   "execution_count": 3,
   "id": "b9c4fa91",
   "metadata": {},
   "outputs": [
    {
     "name": "stdout",
     "output_type": "stream",
     "text": [
      "43\n"
     ]
    }
   ],
   "source": [
    "b = 43 #object b is implicitly defined as int\n",
    "print(b)"
   ]
  },
  {
   "cell_type": "markdown",
   "id": "1d487232",
   "metadata": {},
   "source": [
    "<font color='red'> You can use **type()** function to find the data type for a variable </font>"
   ]
  },
  {
   "cell_type": "code",
   "execution_count": 4,
   "id": "d80b454d",
   "metadata": {},
   "outputs": [
    {
     "data": {
      "text/plain": [
       "int"
      ]
     },
     "execution_count": 4,
     "metadata": {},
     "output_type": "execute_result"
    }
   ],
   "source": [
    "type(a)"
   ]
  },
  {
   "cell_type": "code",
   "execution_count": 5,
   "id": "0f74eeb4",
   "metadata": {},
   "outputs": [
    {
     "data": {
      "text/plain": [
       "int"
      ]
     },
     "execution_count": 5,
     "metadata": {},
     "output_type": "execute_result"
    }
   ],
   "source": [
    "type(b)"
   ]
  },
  {
   "cell_type": "markdown",
   "id": "f159f5c9",
   "metadata": {},
   "source": [
    "<font color='red'> **Int** can also read numbers in other bases (e.g., binary) when passed as text (i.e., within quotes). </font>"
   ]
  },
  {
   "cell_type": "code",
   "execution_count": 16,
   "id": "a7e86483",
   "metadata": {},
   "outputs": [
    {
     "name": "stdout",
     "output_type": "stream",
     "text": [
      "The value of c is:  10\n",
      "The value of d is:  10\n"
     ]
    }
   ],
   "source": [
    "c = int('1010',2) # read \"1010\" in base 2\n",
    "d = int('A',16) # Hexadecimal number\n",
    "print('The value of c is: ',c)  # returns value in base 10 notation\n",
    "print('The value of d is: ',d) "
   ]
  },
  {
   "cell_type": "markdown",
   "id": "3f75d909",
   "metadata": {},
   "source": [
    "<font color='red'> You can get information on the size of the integer your computer can hold using the sys.int_info() function available in **sys** library. </font>"
   ]
  },
  {
   "cell_type": "code",
   "execution_count": 17,
   "id": "88b37d41",
   "metadata": {},
   "outputs": [
    {
     "data": {
      "text/plain": [
       "9223372036854775807"
      ]
     },
     "execution_count": 17,
     "metadata": {},
     "output_type": "execute_result"
    }
   ],
   "source": [
    "import sys\n",
    "sys.maxsize"
   ]
  }
 ],
 "metadata": {
  "kernelspec": {
   "display_name": "Python 3 (ipykernel)",
   "language": "python",
   "name": "python3"
  },
  "language_info": {
   "codemirror_mode": {
    "name": "ipython",
    "version": 3
   },
   "file_extension": ".py",
   "mimetype": "text/x-python",
   "name": "python",
   "nbconvert_exporter": "python",
   "pygments_lexer": "ipython3",
   "version": "3.8.10"
  }
 },
 "nbformat": 4,
 "nbformat_minor": 5
}
